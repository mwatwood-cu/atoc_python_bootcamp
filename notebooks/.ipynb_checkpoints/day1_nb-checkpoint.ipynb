{
 "cells": [
  {
   "cell_type": "markdown",
   "metadata": {},
   "source": [
    "# Python Bootcamp Day 1:\n",
    "## Introduction to Python and Jupyter\n",
    "### Instructors: Matt Watwood and Sam Mogen"
   ]
  },
  {
   "cell_type": "markdown",
   "metadata": {},
   "source": [
    "## Goals for the Day\n",
    "\n",
    "- Introduction to Jupyter and Python\n",
    "    - What is Programming\n",
    "    - What is Python and Jupyter Notebooks\n",
    "    - Using Python as a Calculator\n",
    "- Code Basics\n",
    "    - Variables\n",
    "    - Data Types \n",
    "    - Functions\n",
    "- Code Flow\n",
    "    - Using Packages\n",
    "    - Code Flow (Script/Spyder Example?)\n",
    "- Challenge of the Day - Showing Data\n",
    "    - Plotting \n",
    "    - Printing"
   ]
  },
  {
   "cell_type": "markdown",
   "metadata": {},
   "source": [
    "## \"Classroom\" Expectations\n",
    "\n",
    "- Be Respectful of Everyone\n",
    "    - We're all at a different level of experience with coding. There are no dumb or silly questions, if you aren't sure about something please ask and we will find an answer.\n",
    "    - This really is learning a whole new language and some things that seem simple to someone who knows the language may be the strangest concept in the world to someone who doesn't.\n",
    "    - If you have coding experience please add your input on questions and topics we would love to hear how you've gotten through similar problems or how you think about coding ideas.\n",
    "- Pronouns are Important\n",
    "    - If you have preferred pronouns you'd like us to use please help us out by changing your zoom name to include that such as *Matt W. (he/him)* \n",
    "    - ***Reminder to Organizers, make sure this feature is enabled on the scheduled meeting***\n",
    "- Keep your video on as much as possible\n",
    "    - Seeing your reactions helps us see if you have questions or if the ideas make sense to you\n",
    "    - You don't need to keep your video on forever, if any distractions come up it's ok to stop video and step away. \n",
    "    - We'll try to give short breaks every hour or so to help with this as well.\n",
    "- Not everyone likes to speak out loud\n",
    "    - Please use any of the chat features, reactions, or un-muting and speaking to participate with us."
   ]
  },
  {
   "cell_type": "markdown",
   "metadata": {},
   "source": [
    "## Notebook and Learning Structure\n",
    "\n",
    "The morning sessions will introduce a topic (e.g. making maps with data) through interactive sessions with a combination of lectures, discussions, and coding time. \n",
    "\n",
    "Any text in black will be instruction and guidance and will usually start with a section number.<br>\n",
    "<span style=\"color:blue\"> Any text in blue will be tasks to do and start with \"Task\".</span><br>\n",
    "<span style=\"color:red\"> Any text in red will be optional challenges and advanced concepts for anyone looking to try more and say \"Challenge\".</span>\n",
    "    \n",
    "In the afternoons, you will be divided into groups to work on a longer challenge problem that will test what you've learned that day. You can complete these afternoon challenges by writing a separate python script or by building your own Jupyter Notebook."
   ]
  },
  {
   "cell_type": "markdown",
   "metadata": {},
   "source": [
    "## Breakout Room and Coding Etiquitte\n",
    "\n",
    "- Pair Programming\n",
    "    - One person shares their screen and will code using suggestions and collaboration from the group\n",
    "    - The person coding has minimal responsibility for the details of the code. People not under the stress of \"writing at the board\" are there to help the coder and together as a group learn how to program.\n",
    "        - We all make mistakes typing, remembering variables, spelling, and many other ways when we are working on a computer.\n",
    "        - Don't stress about this and don't make fun of other people's mistakes"
   ]
  },
  {
   "cell_type": "markdown",
   "metadata": {},
   "source": [
    "<font color='blue'> \n",
    "    <h2>Task: Try it Out</h2>\n",
    "\n",
    "In your breakout rooms for 5 minutes, make a text document with:\n",
    "    <ol>\n",
    "        <li>The names of your group members</li>\n",
    "        <li>Their prefered pronouns</li>\n",
    "        <li>Each person's university and major</li>\n",
    "        <li>Any other fun information each group member would like to share</li>\n",
    "    </ol>\n",
    "\n",
    "Do this as a practice for pair programming. Only one person should make a document, and when we come back to the main room that person will share their screen and someone else (who didn't \"code\") will introduce their group members."
   ]
  },
  {
   "cell_type": "markdown",
   "metadata": {},
   "source": [
    "## 1.0 What is Programming? What is Python? What is a Jupyter Notebook? What is a program/script?\n",
    "\n",
    "### 1.0.1 Programming\n",
    "\n",
    "Programming/Coding is the process of writing instructions for the computer to implement and execute. I think of this as the language of the computer.\n",
    "\n",
    "Just like human language it's complicated and if you've done it for a long time, it may seem easy, but that's because you're familiar with the rules and have had a lot of practice. When you don't know the rules and haven't had much practice, it can be hard or even feel impossible to understand what's going on in a \"conversation\", or program in this case. Hopefully, over the next week we can help you start the lifelong process of learning how to use computers to help you solve problems in climate sciences or anywhere else you end up!\n",
    "\n",
    "To start, let's think about this by comparing this computer language (programming) to our human languages. First there are the types of words you use, which in both the computer and human realms we call the **language**. In this case the human language in use is English and the computer language we'll use is Python. Next, the particular way you say those words, on the human side is called grammar and for the computer we call **syntax**. These are the rules that we obey to make sure anyone (or computer) that understands our language can understand us. This bootcamp will help you learn these syntax rules for python!\n",
    "\n",
    "Lastly, knowing a language can be very different than communicating in that language. To listen to and understand English is different from speaking or writing in English. Just like this coding involves understanding what you write and program, **AND** it involves being able to share this with other people so they too can understand what you've done. This is where Jupyter Notebooks come in. Jupyter Notebooks are one of the best ways to share code with other people. You can show people how to use code you've made by giving examples and explain to them what different parts mean using these \"non-code\" blocks like what you're reading here.\n",
    "\n",
    "As you run more and more code you for larger and different projects will likely not only run in a Jupyter Notebooks to share your code with other, you will also use combinations of scripts, data files, notebooks, and output images and graphs."
   ]
  },
  {
   "cell_type": "markdown",
   "metadata": {},
   "source": [
    "### 1.0.2 Python Code\n",
    "\n",
    "This section will have some code examples that you cannot run. You're not expected to understand all of this yet, so don't worry if it isn't all clear! We will have examples like this later in section 1.2.2 that you can run.\n",
    "\n",
    "1. **When writing python code every new idea needs happen on a new line.** \n",
    "\n",
    "This code works.\n",
    "```python\n",
    "age = 10\n",
    "name = \"Bella\"\n",
    "```\n",
    "\n",
    "This code doesn't work.\n",
    "```python\n",
    "age = 10 name = \"Bella\"\n",
    "```\n",
    "\n",
    "2. **Python uses tab spacing to distiguish different sections.**\n",
    "\n",
    "This code works\n",
    "```python\n",
    "if age<10:\n",
    "    print(\"This student is younger than 10\")\n",
    "else:\n",
    "    print(\"This student is older than 10\")\n",
    "```\n",
    "\n",
    "This code doesn't work.\n",
    "```python\n",
    "if age<10:\n",
    "print(\"This student is younger than 10\")\n",
    "else:\n",
    "print(\"This student is older than 10\")\n",
    "```\n",
    "\n",
    "3. **You can add comments to code by using the # symbol at the beginning of a line.**\n",
    "\n",
    "```python\n",
    "#This line doesn't get run\n",
    "#You can say anything in a comment. Refrigerators are cold.\n",
    "\n",
    "# These two lines make variables called age and name and give them values\n",
    "age = 10\n",
    "name = \"Bella\"\n",
    "\n",
    "# This code block checks the value inside the variable called age and shows output depending on the value\n",
    "if age<10:\n",
    "    #This only gets run if the value in age is less than 10\n",
    "    print(\"This student is younger than 10\")\n",
    "else:\n",
    "    # This gets run anytime that age not less than 10\n",
    "    print(\"This student is older than 10\")\n",
    "```"
   ]
  },
  {
   "cell_type": "markdown",
   "metadata": {},
   "source": [
    "## 1.1: Opening Jupyter Through Anaconda"
   ]
  },
  {
   "cell_type": "markdown",
   "metadata": {},
   "source": [
    "Python is a huge language build by an even larger community with many, many different \"packages\" built to help in all sorts of coding applications. Anaconda is a software tool to help organize all of the different pieces and parts of Python so you can just use the ones you want. Jupyter is one of those packages that lets us write these wonderful notebooks and we'll start by seeing how to open a blank notebook or an existing one.\n",
    "\n",
    "<font color=\"blue\"> <h3> 1.1.1 Task: </h3>\n",
    "\n",
    "1. Search for and open Anaconda Navigator\n",
    "2. Go to the \"Applications on...\" dropdown menu and select reu_environment\n",
    "3. Look for JupyterLab and click Launch!\n",
    "\n",
    "![](/images/anaconda.png)"
   ]
  },
  {
   "cell_type": "markdown",
   "metadata": {},
   "source": [
    "# REMOVE - Matt to Sam for Next meeting\n",
    "*Maybe later in the class they can open jupyter notebook by using the anaconda terminal and typing* `jupyter notebook`"
   ]
  },
  {
   "cell_type": "markdown",
   "metadata": {},
   "source": [
    "<font color='blue'>\n",
    "    <h3>1.1.2 Task: Now that we have opened Jupyter Lab, let's make a new notebook!</h3>\n",
    "\n",
    "Task: **Click File > New > Notebook**"
   ]
  },
  {
   "cell_type": "markdown",
   "metadata": {},
   "source": [
    "## 1.2: What can I do with this? Using Cells\n",
    "\n",
    "Jupyter Notebooks are broken into cells that can be edited and run. There are two types of cells we will use in the bootcamp. They are called Markdown and Code"
   ]
  },
  {
   "cell_type": "markdown",
   "metadata": {},
   "source": [
    "### 1.2.1: Markdown"
   ]
  },
  {
   "cell_type": "markdown",
   "metadata": {},
   "source": [
    "Markdown allows us to write texts with various formats and is not run as code. This lets Jupyter Notebooks be an easy way of presenting code and programming information. \n",
    "\n",
    "<span style=\"color:red\"> Challenge: Markdown uses HTML on the backend so you can get create complex and beautiful markdown by putting HTML inline.</span>\n",
    "\n",
    "Go to the dropdown box above (\"code\" right now) and select \"markdown\" for the cell you're currently in.\n",
    "\n",
    "We can bold text using `**text**` to give **text**, or make `*italicized*` *text*.\n",
    "\n",
    "Add a `#` before markdown text to create a heading (see the top of this document). Adding more # will create subheadings!\n",
    "\n",
    "# Header 1\n",
    "## Header 2\n",
    "### Header 3\n",
    "\n",
    "You can also include links to other websites, like [Google](http://google.com), with `[Google](http://google.com)`\n",
    "\n",
    "There are a lot of resources and documents available explaining markdown, but you can reference [this document](https://guides.github.com/features/mastering-markdown/) from Github"
   ]
  },
  {
   "cell_type": "markdown",
   "metadata": {},
   "source": [
    "### <font color='blue'> Try this yourself <br>\n",
    "\n",
    "<font color='blue'>\n",
    "Now that you've seen the basics, look through the documentation and try writing some Markdown for yourself by starting a new cell in your empty notebook. <br><br>\n",
    "    \n",
    "Note: If you are in this notebook, you can go to Insert -> Insert Cell Below when selecting this cell to try the same here.<br><br> \n",
    "    \n",
    "Tip: to run a cell, press \"Shift\" + \"Enter\" or click the 'play/Run' button in the top menu bar."
   ]
  },
  {
   "cell_type": "markdown",
   "metadata": {},
   "source": [
    "<font color='blue'>\n",
    "    \n",
    "1. Create headers\n",
    "2. Bold some text\n",
    "3. Italicize some text\n",
    "4. Include a link to a website\n",
    "5. Download a picture and include it in this code block"
   ]
  },
  {
   "cell_type": "markdown",
   "metadata": {},
   "source": [
    "### 1.2.2: Python as a calculator\n",
    "\n",
    "At its most basic, python code can work as a calculator"
   ]
  },
  {
   "cell_type": "code",
   "execution_count": null,
   "metadata": {},
   "outputs": [],
   "source": [
    "8 * 2"
   ]
  },
  {
   "cell_type": "markdown",
   "metadata": {},
   "source": [
    "Regular orders of operation are followed.\n",
    "\n",
    "For example calculating the following in python is in the next block:\n",
    "\n",
    "$ (8 \\cdot 2 + 2)^2$\n",
    "\n",
    "Note that the exponential is ```** ```"
   ]
  },
  {
   "cell_type": "code",
   "execution_count": null,
   "metadata": {},
   "outputs": [],
   "source": [
    "((8*2) + 2)**2"
   ]
  },
  {
   "cell_type": "markdown",
   "metadata": {},
   "source": [
    "<font color='blue'> Play around and do some calculations using this feature!"
   ]
  },
  {
   "cell_type": "code",
   "execution_count": null,
   "metadata": {},
   "outputs": [],
   "source": []
  },
  {
   "cell_type": "markdown",
   "metadata": {},
   "source": [
    "### 1.2.3: Variables and Data Types\n",
    "\n",
    "To save a value for use later in python we use an idea called variables.\n",
    "\n",
    "A variable is a name you as the coder make up and use as a place holder for a value. There are some rules for what you can and can't use for variable names. \n",
    "\n",
    "The `=` is an operation. Put the value on the right side into the name on the left side.\n",
    "\n",
    "The example below puts the value of 5 into the name of `x`\n",
    "\n",
    "<font color='blue'> Run the next cell block."
   ]
  },
  {
   "cell_type": "code",
   "execution_count": 9,
   "metadata": {},
   "outputs": [],
   "source": [
    "x = 5"
   ]
  },
  {
   "cell_type": "code",
   "execution_count": 3,
   "metadata": {},
   "outputs": [
    {
     "name": "stdout",
     "output_type": "stream",
     "text": [
      "16\n"
     ]
    }
   ],
   "source": []
  },
  {
   "cell_type": "code",
   "execution_count": 5,
   "metadata": {},
   "outputs": [],
   "source": [
    "x = [1,2,3]"
   ]
  },
  {
   "cell_type": "code",
   "execution_count": 6,
   "metadata": {},
   "outputs": [
    {
     "name": "stdout",
     "output_type": "stream",
     "text": [
      "[1, 2, 3]\n"
     ]
    }
   ],
   "source": [
    "print(x)"
   ]
  },
  {
   "cell_type": "markdown",
   "metadata": {},
   "source": [
    "There are lot of datatypes in Python. We will give you a brief outline of these today... There is a good intro [here](https://www.w3schools.com/python/python_datatypes.asp)"
   ]
  },
  {
   "cell_type": "code",
   "execution_count": null,
   "metadata": {},
   "outputs": [],
   "source": [
    "# String\n",
    "x = \"Hello world\"\n",
    "print(type(x))"
   ]
  },
  {
   "cell_type": "code",
   "execution_count": null,
   "metadata": {},
   "outputs": [],
   "source": [
    "# Int\n",
    "x = 20\n",
    "print(type(x))"
   ]
  },
  {
   "cell_type": "code",
   "execution_count": null,
   "metadata": {},
   "outputs": [],
   "source": [
    "# Float\n",
    "x = 20.5\n",
    "print(type(x))"
   ]
  },
  {
   "cell_type": "code",
   "execution_count": null,
   "metadata": {},
   "outputs": [],
   "source": [
    "# List\n",
    "x = ['Atmosphere','Cryosphere','Ocean']\n",
    "print(type(x))"
   ]
  },
  {
   "cell_type": "code",
   "execution_count": null,
   "metadata": {},
   "outputs": [],
   "source": [
    "# Tuple\n",
    "x = ('Atmosphere','Cryosphere','Ocean')\n",
    "print(type(x))"
   ]
  },
  {
   "cell_type": "code",
   "execution_count": null,
   "metadata": {},
   "outputs": [],
   "source": []
  },
  {
   "cell_type": "markdown",
   "metadata": {},
   "source": [
    "## 1.3: Importing Packages"
   ]
  },
  {
   "cell_type": "code",
   "execution_count": null,
   "metadata": {},
   "outputs": [],
   "source": [
    "# use numpy, pandas and matplotlib\n",
    "import numpy as np\n",
    "import pandas as pd\n",
    "import matplotlib.pyplot as plt"
   ]
  },
  {
   "cell_type": "code",
   "execution_count": null,
   "metadata": {},
   "outputs": [],
   "source": [
    "# include links to documentation...?"
   ]
  },
  {
   "cell_type": "markdown",
   "metadata": {},
   "source": [
    "## 1.4: Functions\n",
    "\n",
    "A function allows to you to write a generalized code that can be applied to various inputs..."
   ]
  },
  {
   "cell_type": "code",
   "execution_count": null,
   "metadata": {},
   "outputs": [],
   "source": [
    "# For example, the following function defined as 'names' will print the combination of names\n",
    "def names(fname, middleinit, lname):\n",
    "    print(fname + \" \" + middleinit + \" \" + lname)"
   ]
  },
  {
   "cell_type": "code",
   "execution_count": null,
   "metadata": {},
   "outputs": [],
   "source": [
    "# call the function with names - try with your own name\n",
    "names(\"Samuel\", \"C\", \"Mogen\")"
   ]
  },
  {
   "cell_type": "code",
   "execution_count": null,
   "metadata": {},
   "outputs": [],
   "source": [
    "# The following function will simply multiply the value given by 5...\n",
    "def multiply(x):\n",
    "    return 5 * x"
   ]
  },
  {
   "cell_type": "code",
   "execution_count": null,
   "metadata": {},
   "outputs": [],
   "source": [
    "x = 100 # change this\n",
    "multiply(x)"
   ]
  },
  {
   "cell_type": "code",
   "execution_count": null,
   "metadata": {},
   "outputs": [],
   "source": [
    "# first, use Numpy to create an array to do some calculations!\n",
    "array = np.array([[1, 2, 3], [4, 5, 6], [7, 8, 9]])\n",
    "print(array)"
   ]
  },
  {
   "cell_type": "code",
   "execution_count": null,
   "metadata": {},
   "outputs": [],
   "source": [
    "# Create a function that adds 1 to an array.\n",
    "def add_one(array):\n",
    "  return array + 1"
   ]
  },
  {
   "cell_type": "code",
   "execution_count": null,
   "metadata": {},
   "outputs": [],
   "source": [
    "# run this function and compare to the old array\n",
    "new_array = add_one(array)\n",
    "print(new_array)"
   ]
  },
  {
   "cell_type": "markdown",
   "metadata": {},
   "source": [
    "## 1.5: Loops and Logic"
   ]
  },
  {
   "cell_type": "markdown",
   "metadata": {},
   "source": [
    "Python also gives you the ability to compare data using 'if' statements"
   ]
  },
  {
   "cell_type": "code",
   "execution_count": null,
   "metadata": {},
   "outputs": [],
   "source": [
    "a = 33\n",
    "b = 100\n",
    "\n",
    "if b > a:\n",
    "    print('b is greater than a')"
   ]
  },
  {
   "cell_type": "code",
   "execution_count": null,
   "metadata": {},
   "outputs": [],
   "source": [
    "if b > a:\n",
    "    print('b is greater than a')\n",
    "elif b == a:\n",
    "    print('b is equal to a')"
   ]
  },
  {
   "cell_type": "code",
   "execution_count": null,
   "metadata": {},
   "outputs": [],
   "source": [
    "if b > a:\n",
    "    print('b is greater than a')\n",
    "elif b == a:\n",
    "    print('b is equal to a')\n",
    "else:\n",
    "    print('b is less than a')"
   ]
  },
  {
   "cell_type": "code",
   "execution_count": null,
   "metadata": {},
   "outputs": [],
   "source": [
    "# the operator 'or' can also be included if you want to see if just one condition is true\n",
    "a = 200\n",
    "b = 33\n",
    "c = 500\n",
    "\n",
    "if a > b or a > c:\n",
    "    print('one condition is true!')"
   ]
  },
  {
   "cell_type": "markdown",
   "metadata": {},
   "source": [
    "for loops are also useful!"
   ]
  },
  {
   "cell_type": "markdown",
   "metadata": {},
   "source": [
    "## 1.6: Importing and Working with Data"
   ]
  },
  {
   "cell_type": "markdown",
   "metadata": {},
   "source": [
    "We are going to start working with some basic data showing atmospheric temperature in Boulder, CO with monthly averages...\n",
    "\n",
    "The data can be found in the Google Drive folder and is called \"boco_air_temp.csv\". Download this file and save it in the directory where you notebook is saved...\n",
    "\n",
    "The data is average monthly and annual values at the NOAA Physical Sciences Lab in Boulder, Colorado starting in 1897.\n",
    "\n",
    "to import the data, we will rely on the Pandas package and it's **read_csv** function"
   ]
  },
  {
   "cell_type": "code",
   "execution_count": null,
   "metadata": {},
   "outputs": [],
   "source": [
    "data = pd.read_csv('boco_air_temp.csv')"
   ]
  },
  {
   "cell_type": "markdown",
   "metadata": {},
   "source": [
    "now we will look at the data and see how it is read in..."
   ]
  },
  {
   "cell_type": "code",
   "execution_count": null,
   "metadata": {},
   "outputs": [],
   "source": [
    "data"
   ]
  },
  {
   "cell_type": "markdown",
   "metadata": {},
   "source": [
    "This data is read in as a table, similar to what you might have seen in excel!\n",
    "\n",
    "To subset (or selected a specific column), you just need to use one of the indexing functions, so either:\n",
    "\n",
    "        data['Year']\n",
    "            or\n",
    "        data.Year"
   ]
  },
  {
   "cell_type": "code",
   "execution_count": null,
   "metadata": {},
   "outputs": [],
   "source": [
    "data['Year']"
   ]
  },
  {
   "cell_type": "code",
   "execution_count": null,
   "metadata": {},
   "outputs": [],
   "source": [
    "data.Year"
   ]
  },
  {
   "cell_type": "markdown",
   "metadata": {},
   "source": [
    "### <font color='blue'> now that we have read in some data, how would we plot this?"
   ]
  },
  {
   "cell_type": "markdown",
   "metadata": {},
   "source": [
    "basic syntax for using matplotlib:\n",
    "\n",
    "        plt.(x-data,y-data)"
   ]
  },
  {
   "cell_type": "code",
   "execution_count": null,
   "metadata": {},
   "outputs": [],
   "source": [
    "plt.plot(data.Year,data.Average)"
   ]
  },
  {
   "cell_type": "markdown",
   "metadata": {},
   "source": [
    "You can also add multiple lines to a plot..."
   ]
  },
  {
   "cell_type": "code",
   "execution_count": null,
   "metadata": {},
   "outputs": [],
   "source": [
    "plt.plot(data.Year,data.JAN)\n",
    "plt.plot(data.Year,data.FEB)"
   ]
  },
  {
   "cell_type": "code",
   "execution_count": null,
   "metadata": {},
   "outputs": [],
   "source": []
  }
 ],
 "metadata": {
  "kernelspec": {
   "display_name": "Python 3",
   "language": "python",
   "name": "python3"
  },
  "language_info": {
   "codemirror_mode": {
    "name": "ipython",
    "version": 3
   },
   "file_extension": ".py",
   "mimetype": "text/x-python",
   "name": "python",
   "nbconvert_exporter": "python",
   "pygments_lexer": "ipython3",
   "version": "3.7.10"
  }
 },
 "nbformat": 4,
 "nbformat_minor": 4
}
