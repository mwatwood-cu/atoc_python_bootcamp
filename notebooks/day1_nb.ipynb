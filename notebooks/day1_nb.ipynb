{
 "cells": [
  {
   "cell_type": "markdown",
   "metadata": {},
   "source": [
    "# Python Bootcamp Day 1:\n",
    "## Introduction to Python and Jupyter\n",
    "### Instructors: Matt Watwood and Sam Mogen"
   ]
  },
  {
   "cell_type": "markdown",
   "metadata": {},
   "source": [
    "## Goals for the Day\n",
    "\n",
    "- Introduction to Jupyter and Python\n",
    "    - What is a Notebook\n",
    "    - Using Python as a Calculator\n",
    "- Code Basics\n",
    "    - Variables\n",
    "    - Data Types\n",
    "    - Functions\n",
    "- Code Flow\n",
    "    - Using Packages\n",
    "    - Code Flow (Script/Spyder Example?)\n",
    "- Challenge of the Day - Showing Data\n",
    "    - Plotting \n",
    "    - Printing"
   ]
  },
  {
   "cell_type": "markdown",
   "metadata": {},
   "source": [
    "## Notebook and Learning Structure\n",
    "\n",
    "The morning sessions will introduce a topic (e.g. making maps with data) through interactive sessions with a combination of lectures, discussions, and coding time. \n",
    "\n",
    "Any text in black will be instruction and guidance.<br>\n",
    "<font color='blue'> Any text in blue will be tasks to do.<br>\n",
    "<font color='red'> Any text in red will be optional challenges for anyone looking to try more.\n",
    "    \n",
    "<font color='black'>In the afternoons, you will be divided into groups to work on a longer challenge problem that will test what you've learned that day. You can complete these afternoon challenges by writing a separate python script or by building your own Jupyter Notebook."
   ]
  },
  {
   "cell_type": "markdown",
   "metadata": {},
   "source": [
    "## \"Classroom\" Expectations\n",
    "\n",
    "- Be Respectful of Everyone\n",
    "    - We're all at a different level of experience with coding. There are no dumb or silly questions, if you aren't sure about something please ask and we will find an answer.\n",
    "    - This really is learning a whole new language and somethings that seem simple to someone who knows the language may be the strangest concept in the world to someone who doesn't.\n",
    "    - If you have coding experience please add your input on questions and topics we would love to hear how you've gotten through similar problems or how you think about coding ideas\n",
    "- Pronouns are Important\n",
    "    - If you have preferred pronouns you'd like us to use please help us out by changing your zoom name to include that such as *Matt W. (he/him)* \n",
    "    - ***Reminder to Organizers, make sure this feature is enabled on the scheduled meeting***\n",
    "- Keep your video on as much as possible\n",
    "    - Seeing your reactions helps us see if you have questions or if the ideas make sense to you\n",
    "    - You don't need to keep your video on forever, if any distractions come up it's ok to stop video and step away. \n",
    "    - We'll try to give short breaks every hour or so to help with this as well.\n",
    "- Not everyone likes to speak out loud\n",
    "    - Please use any of the chat features, reactions, or un-muting and speaking to participate with us."
   ]
  },
  {
   "cell_type": "markdown",
   "metadata": {},
   "source": [
    "## Breakout Room and Coding Etiquitte\n",
    "\n",
    "- Pair Programming\n",
    "    - One person shares their screen and will code using suggestions and collaboration from the group\n",
    "    - The person coding has minimal responsibility for the details of the code. People not under the stress of \"writing at the board\" are there to help the coder and together as a group learn how to program.\n",
    "        - We all make mistakes typing, remembering variables, spelling, and many other ways when we are working on a computer.\n",
    "        - Don't stress about this and don't make fun of other people's mistakes"
   ]
  },
  {
   "cell_type": "markdown",
   "metadata": {},
   "source": [
    "<font color='blue'> \n",
    "    <h2>Try it Out</h2>\n",
    "\n",
    "In your breakout rooms for 5 minutes, make a text document with:\n",
    "    <ol>\n",
    "        <li>The names of your group members</li>\n",
    "        <li>Their prefered pronouns</li>\n",
    "        <li>Each person's university and major</li>\n",
    "        <li>Any other fun information each group member would like to share</li>\n",
    "    </ol>\n",
    "\n",
    "Do this as a practice for pair programming. Only one person should make a document, and when we come back to the main room that person will share their screen and someone else (who didn't \"code\") will introduce their group members."
   ]
  },
  {
   "cell_type": "markdown",
   "metadata": {},
   "source": [
    "## 1.0: Opening Jupyter Through Anaconda"
   ]
  },
  {
   "cell_type": "markdown",
   "metadata": {},
   "source": [
    "Python is a huge community with many many different \"packages\" built to help in all sorts of coding. Anaconda is a software tool to help organize all of the different parts of Python. Jupyter is one of those packages that lets us write these wonderful notebooks and we'll start by seeing how to open a notebook.\n",
    "\n",
    "1. Search for and open Anaconda Navigator\n",
    "2. Go to the \"Applications on...\" dropdown menu and select reu_environment\n",
    "3. Look for JupyterLab and click Launch!\n",
    "\n",
    "![](/images/anaconda.png)"
   ]
  },
  {
   "cell_type": "markdown",
   "metadata": {},
   "source": [
    "Now that we have opened Jupyter Lab, how do we use it?\n",
    "\n",
    "<font color='blue'> **Click File > New > Notebook**"
   ]
  },
  {
   "cell_type": "markdown",
   "metadata": {},
   "source": [
    "## 1.2: What can I do with this?"
   ]
  },
  {
   "cell_type": "markdown",
   "metadata": {},
   "source": [
    "### 1.2.1: Markdown vs Code"
   ]
  },
  {
   "cell_type": "markdown",
   "metadata": {},
   "source": [
    "Markdown allows us to write texts with various formats...\n",
    "\n",
    "Go to the dropdown box above (\"code\" right now) and select \"markdown\" for the cell you're currently in.\n",
    "\n",
    "We can bold text using `**text**` to give **text**, or make `*italicized*` *text*.\n",
    "\n",
    "Add a `#` before markdown text to create a heading (see the top of this document). Adding more # will create subheadings!\n",
    "\n",
    "# Header 1\n",
    "## Header 2\n",
    "### Header 3\n",
    "\n",
    "You can also include links to other websites, like [Google](http://google.com), with `[Google](http://google.com)`\n",
    "\n",
    "There are a lot of resources and documents available explaining markdown, but you can reference [this document](https://guides.github.com/features/mastering-markdown/) from Github"
   ]
  },
  {
   "cell_type": "markdown",
   "metadata": {},
   "source": [
    "### <font color='blue'> Try this yourself\n",
    "\n",
    "Now that you've seen the basics, look through the documentation and try writing some Markdown for yourself\n",
    "    \n",
    "Hint: to run a cell, hit \"Shift\" + \"Enter\" or click the 'play' button at the top."
   ]
  },
  {
   "cell_type": "code",
   "execution_count": null,
   "metadata": {},
   "outputs": [],
   "source": [
    "# create headers\n",
    "\n",
    "# bold some text\n",
    "\n",
    "# italicize some text\n",
    "\n",
    "# include a link to a website\n",
    "\n",
    "# download a picture and include it in this code block"
   ]
  },
  {
   "cell_type": "markdown",
   "metadata": {},
   "source": [
    "### 1.2.2: Python as a calculator"
   ]
  },
  {
   "cell_type": "code",
   "execution_count": null,
   "metadata": {},
   "outputs": [],
   "source": [
    "# at its most basic, python code can work as a calculator\n",
    "8 * 2"
   ]
  },
  {
   "cell_type": "code",
   "execution_count": null,
   "metadata": {},
   "outputs": [],
   "source": [
    "# regular orders of operation are followed...\n",
    "((8*2) + 2)**2 # ** --> the exponential"
   ]
  },
  {
   "cell_type": "markdown",
   "metadata": {},
   "source": [
    "<font color='blue'> Play around and do some calculations using this feature!"
   ]
  },
  {
   "cell_type": "code",
   "execution_count": null,
   "metadata": {},
   "outputs": [],
   "source": []
  },
  {
   "cell_type": "markdown",
   "metadata": {},
   "source": [
    "### 1.2.3: Variables and Data Types"
   ]
  },
  {
   "cell_type": "code",
   "execution_count": null,
   "metadata": {},
   "outputs": [],
   "source": [
    "# to save a variable in python, set a character equal to some other value...\n",
    "x = 8 * 2"
   ]
  },
  {
   "cell_type": "code",
   "execution_count": null,
   "metadata": {},
   "outputs": [],
   "source": [
    "x"
   ]
  },
  {
   "cell_type": "code",
   "execution_count": null,
   "metadata": {},
   "outputs": [],
   "source": [
    "x = [1,2,3]"
   ]
  },
  {
   "cell_type": "code",
   "execution_count": null,
   "metadata": {},
   "outputs": [],
   "source": [
    "x"
   ]
  },
  {
   "cell_type": "markdown",
   "metadata": {},
   "source": [
    "There are lot of datatypes in Python. We will give you a brief outline of these today... There is a good intro [here](https://www.w3schools.com/python/python_datatypes.asp)"
   ]
  },
  {
   "cell_type": "code",
   "execution_count": null,
   "metadata": {},
   "outputs": [],
   "source": [
    "# String\n",
    "x = \"Hello world\"\n",
    "print(type(x))"
   ]
  },
  {
   "cell_type": "code",
   "execution_count": null,
   "metadata": {},
   "outputs": [],
   "source": [
    "# Int\n",
    "x = 20\n",
    "print(type(x))"
   ]
  },
  {
   "cell_type": "code",
   "execution_count": null,
   "metadata": {},
   "outputs": [],
   "source": [
    "# Float\n",
    "x = 20.5\n",
    "print(type(x))"
   ]
  },
  {
   "cell_type": "code",
   "execution_count": null,
   "metadata": {},
   "outputs": [],
   "source": [
    "# List\n",
    "x = ['Atmosphere','Cryosphere','Ocean']\n",
    "print(type(x))"
   ]
  },
  {
   "cell_type": "code",
   "execution_count": null,
   "metadata": {},
   "outputs": [],
   "source": [
    "# Tuple\n",
    "x = ('Atmosphere','Cryosphere','Ocean')\n",
    "print(type(x))"
   ]
  },
  {
   "cell_type": "code",
   "execution_count": null,
   "metadata": {},
   "outputs": [],
   "source": []
  },
  {
   "cell_type": "markdown",
   "metadata": {},
   "source": [
    "## 1.3: Importing Packages"
   ]
  },
  {
   "cell_type": "code",
   "execution_count": null,
   "metadata": {},
   "outputs": [],
   "source": [
    "# use numpy, pandas and matplotlib\n",
    "import numpy as np\n",
    "import pandas as pd\n",
    "import matplotlib.pyplot as plt"
   ]
  },
  {
   "cell_type": "code",
   "execution_count": null,
   "metadata": {},
   "outputs": [],
   "source": [
    "# include links to documentation...?"
   ]
  },
  {
   "cell_type": "markdown",
   "metadata": {},
   "source": [
    "## 1.4: Functions\n",
    "\n",
    "A function allows to you to write a generalized code that can be applied to various inputs..."
   ]
  },
  {
   "cell_type": "code",
   "execution_count": null,
   "metadata": {},
   "outputs": [],
   "source": [
    "# For example, the following function defined as 'names' will print the combination of names\n",
    "def names(fname, middleinit, lname):\n",
    "    print(fname + \" \" + middleinit + \" \" + lname)"
   ]
  },
  {
   "cell_type": "code",
   "execution_count": null,
   "metadata": {},
   "outputs": [],
   "source": [
    "# call the function with names - try with your own name\n",
    "names(\"Samuel\", \"C\", \"Mogen\")"
   ]
  },
  {
   "cell_type": "code",
   "execution_count": null,
   "metadata": {},
   "outputs": [],
   "source": [
    "# The following function will simply multiply the value given by 5...\n",
    "def multiply(x):\n",
    "    return 5 * x"
   ]
  },
  {
   "cell_type": "code",
   "execution_count": null,
   "metadata": {},
   "outputs": [],
   "source": [
    "x = 100 # change this\n",
    "multiply(x)"
   ]
  },
  {
   "cell_type": "code",
   "execution_count": null,
   "metadata": {},
   "outputs": [],
   "source": [
    "# first, use Numpy to create an array to do some calculations!\n",
    "array = np.array([[1, 2, 3], [4, 5, 6], [7, 8, 9]])\n",
    "print(array)"
   ]
  },
  {
   "cell_type": "code",
   "execution_count": null,
   "metadata": {},
   "outputs": [],
   "source": [
    "# Create a function that adds 1 to an array.\n",
    "def add_one(array):\n",
    "  return array + 1"
   ]
  },
  {
   "cell_type": "code",
   "execution_count": null,
   "metadata": {},
   "outputs": [],
   "source": [
    "# run this function and compare to the old array\n",
    "new_array = add_one(array)\n",
    "print(new_array)"
   ]
  },
  {
   "cell_type": "markdown",
   "metadata": {},
   "source": [
    "## 1.5: Loops and Logic"
   ]
  },
  {
   "cell_type": "markdown",
   "metadata": {},
   "source": [
    "Python also gives you the ability to compare data using 'if' statements"
   ]
  },
  {
   "cell_type": "code",
   "execution_count": null,
   "metadata": {},
   "outputs": [],
   "source": [
    "a = 33\n",
    "b = 100\n",
    "\n",
    "if b > a:\n",
    "    print('b is greater than a')"
   ]
  },
  {
   "cell_type": "code",
   "execution_count": null,
   "metadata": {},
   "outputs": [],
   "source": [
    "if b > a:\n",
    "    print('b is greater than a')\n",
    "elif b == a:\n",
    "    print('b is equal to a')"
   ]
  },
  {
   "cell_type": "code",
   "execution_count": null,
   "metadata": {},
   "outputs": [],
   "source": [
    "if b > a:\n",
    "    print('b is greater than a')\n",
    "elif b == a:\n",
    "    print('b is equal to a')\n",
    "else:\n",
    "    print('b is less than a')"
   ]
  },
  {
   "cell_type": "code",
   "execution_count": null,
   "metadata": {},
   "outputs": [],
   "source": [
    "# the operator 'or' can also be included if you want to see if just one condition is true\n",
    "a = 200\n",
    "b = 33\n",
    "c = 500\n",
    "\n",
    "if a > b or a > c:\n",
    "    print('one condition is true!')"
   ]
  },
  {
   "cell_type": "markdown",
   "metadata": {},
   "source": [
    "for loops are also useful!"
   ]
  },
  {
   "cell_type": "markdown",
   "metadata": {},
   "source": [
    "## 1.6: Importing and Working with Data"
   ]
  },
  {
   "cell_type": "markdown",
   "metadata": {},
   "source": [
    "We are going to start working with some basic data showing atmospheric temperature in Boulder, CO with monthly averages...\n",
    "\n",
    "The data can be found in the Google Drive folder and is called \"boco_air_temp.csv\". Download this file and save it in the directory where you notebook is saved...\n",
    "\n",
    "The data is average monthly and annual values at the NOAA Physical Sciences Lab in Boulder, Colorado starting in 1897.\n",
    "\n",
    "to import the data, we will rely on the Pandas package and it's **read_csv** function"
   ]
  },
  {
   "cell_type": "code",
   "execution_count": null,
   "metadata": {},
   "outputs": [],
   "source": [
    "data = pd.read_csv('boco_air_temp.csv')"
   ]
  },
  {
   "cell_type": "markdown",
   "metadata": {},
   "source": [
    "now we will look at the data and see how it is read in..."
   ]
  },
  {
   "cell_type": "code",
   "execution_count": null,
   "metadata": {},
   "outputs": [],
   "source": [
    "data"
   ]
  },
  {
   "cell_type": "markdown",
   "metadata": {},
   "source": [
    "This data is read in as a table, similar to what you might have seen in excel!\n",
    "\n",
    "To subset (or selected a specific column), you just need to use one of the indexing functions, so either:\n",
    "\n",
    "        data['Year']\n",
    "            or\n",
    "        data.Year"
   ]
  },
  {
   "cell_type": "code",
   "execution_count": null,
   "metadata": {},
   "outputs": [],
   "source": [
    "data['Year']"
   ]
  },
  {
   "cell_type": "code",
   "execution_count": null,
   "metadata": {},
   "outputs": [],
   "source": [
    "data.Year"
   ]
  },
  {
   "cell_type": "markdown",
   "metadata": {},
   "source": [
    "### <font color='blue'> now that we have read in some data, how would we plot this?"
   ]
  },
  {
   "cell_type": "markdown",
   "metadata": {},
   "source": [
    "basic syntax for using matplotlib:\n",
    "\n",
    "        plt.(x-data,y-data)"
   ]
  },
  {
   "cell_type": "code",
   "execution_count": null,
   "metadata": {},
   "outputs": [],
   "source": [
    "plt.plot(data.Year,data.Average)"
   ]
  },
  {
   "cell_type": "markdown",
   "metadata": {},
   "source": [
    "You can also add multiple lines to a plot..."
   ]
  },
  {
   "cell_type": "code",
   "execution_count": null,
   "metadata": {},
   "outputs": [],
   "source": [
    "plt.plot(data.Year,data.JAN)\n",
    "plt.plot(data.Year,data.FEB)"
   ]
  },
  {
   "cell_type": "code",
   "execution_count": null,
   "metadata": {},
   "outputs": [],
   "source": []
  }
 ],
 "metadata": {
  "kernelspec": {
   "display_name": "Python 3",
   "language": "python",
   "name": "python3"
  },
  "language_info": {
   "codemirror_mode": {
    "name": "ipython",
    "version": 3
   },
   "file_extension": ".py",
   "mimetype": "text/x-python",
   "name": "python",
   "nbconvert_exporter": "python",
   "pygments_lexer": "ipython3",
   "version": "3.7.10"
  }
 },
 "nbformat": 4,
 "nbformat_minor": 4
}
